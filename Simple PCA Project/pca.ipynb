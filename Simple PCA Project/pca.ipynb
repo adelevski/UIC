{
 "cells": [
  {
   "cell_type": "code",
   "execution_count": 1,
   "metadata": {},
   "outputs": [
    {
     "data": {
      "text/plain": [
       "array([[-1.72600524, -1.64777909,  0.53223157, -0.45661307,  1.29056424],\n",
       "       [-1.71389292, -0.65772695, -0.41913236, -0.45661307, -0.0664261 ],\n",
       "       [-1.7017806 , -0.65772695, -0.41913236, -0.45661307, -0.0664261 ],\n",
       "       ...,\n",
       "       [ 1.7017806 ,  1.32237733, -0.41913236, -0.45661307, -1.42341644],\n",
       "       [ 1.71389292, -0.65772695,  0.53223157,  0.41399585,  1.29056424],\n",
       "       [ 1.72600524,  0.33232519,  0.53223157,  0.41399585,  1.29056424]])"
      ]
     },
     "execution_count": 1,
     "metadata": {},
     "output_type": "execute_result"
    }
   ],
   "source": [
    "import pandas as pd\n",
    "from sklearn.preprocessing import StandardScaler\n",
    "from sklearn.decomposition import PCA\n",
    "\n",
    "df = pd.DataFrame(pd.read_csv('clean_data.csv'))\n",
    "\n",
    "x = StandardScaler().fit_transform(df)\n",
    "\n",
    "x\n"
   ]
  },
  {
   "cell_type": "code",
   "execution_count": 2,
   "metadata": {},
   "outputs": [
    {
     "data": {
      "text/plain": [
       "0      no-recurrence-events\n",
       "1      no-recurrence-events\n",
       "2      no-recurrence-events\n",
       "3      no-recurrence-events\n",
       "4      no-recurrence-events\n",
       "               ...         \n",
       "281       recurrence-events\n",
       "282       recurrence-events\n",
       "283       recurrence-events\n",
       "284       recurrence-events\n",
       "285       recurrence-events\n",
       "Name: Class, Length: 286, dtype: object"
      ]
     },
     "execution_count": 2,
     "metadata": {},
     "output_type": "execute_result"
    }
   ],
   "source": [
    "import pandas as pd\n",
    "\n",
    "########## Reading in Data ###################\n",
    "data2 = pd.read_csv('breast-cancer.csv')\n",
    "df2 = pd.DataFrame(data2)\n",
    "data_class = df2['Class'] \n",
    "\n",
    "data_class"
   ]
  },
  {
   "cell_type": "code",
   "execution_count": 3,
   "metadata": {},
   "outputs": [],
   "source": [
    "pca = PCA(n_components = 2)"
   ]
  },
  {
   "cell_type": "code",
   "execution_count": 4,
   "metadata": {},
   "outputs": [],
   "source": [
    "principal_components = pca.fit_transform(x)"
   ]
  },
  {
   "cell_type": "code",
   "execution_count": 5,
   "metadata": {},
   "outputs": [],
   "source": [
    "principal_df = pd.DataFrame(data = principal_components, columns = ['Principal Component #1', 'Principal Component #2'])"
   ]
  },
  {
   "cell_type": "code",
   "execution_count": 7,
   "metadata": {},
   "outputs": [],
   "source": [
    "final_df = pd.concat([principal_df, data_class], axis = 1)"
   ]
  },
  {
   "cell_type": "code",
   "execution_count": 8,
   "metadata": {},
   "outputs": [
    {
     "data": {
      "text/html": [
       "<div>\n",
       "<style scoped>\n",
       "    .dataframe tbody tr th:only-of-type {\n",
       "        vertical-align: middle;\n",
       "    }\n",
       "\n",
       "    .dataframe tbody tr th {\n",
       "        vertical-align: top;\n",
       "    }\n",
       "\n",
       "    .dataframe thead th {\n",
       "        text-align: right;\n",
       "    }\n",
       "</style>\n",
       "<table border=\"1\" class=\"dataframe\">\n",
       "  <thead>\n",
       "    <tr style=\"text-align: right;\">\n",
       "      <th></th>\n",
       "      <th>Principal Component #1</th>\n",
       "      <th>Principal Component #2</th>\n",
       "      <th>Class</th>\n",
       "    </tr>\n",
       "  </thead>\n",
       "  <tbody>\n",
       "    <tr>\n",
       "      <th>0</th>\n",
       "      <td>-0.082116</td>\n",
       "      <td>-1.418963</td>\n",
       "      <td>no-recurrence-events</td>\n",
       "    </tr>\n",
       "    <tr>\n",
       "      <th>1</th>\n",
       "      <td>-1.269219</td>\n",
       "      <td>-0.737748</td>\n",
       "      <td>no-recurrence-events</td>\n",
       "    </tr>\n",
       "    <tr>\n",
       "      <th>2</th>\n",
       "      <td>-1.262627</td>\n",
       "      <td>-0.738101</td>\n",
       "      <td>no-recurrence-events</td>\n",
       "    </tr>\n",
       "    <tr>\n",
       "      <th>3</th>\n",
       "      <td>-1.711847</td>\n",
       "      <td>1.021631</td>\n",
       "      <td>no-recurrence-events</td>\n",
       "    </tr>\n",
       "    <tr>\n",
       "      <th>4</th>\n",
       "      <td>-1.947876</td>\n",
       "      <td>-1.267394</td>\n",
       "      <td>no-recurrence-events</td>\n",
       "    </tr>\n",
       "    <tr>\n",
       "      <th>...</th>\n",
       "      <td>...</td>\n",
       "      <td>...</td>\n",
       "      <td>...</td>\n",
       "    </tr>\n",
       "    <tr>\n",
       "      <th>281</th>\n",
       "      <td>1.066369</td>\n",
       "      <td>-1.518465</td>\n",
       "      <td>recurrence-events</td>\n",
       "    </tr>\n",
       "    <tr>\n",
       "      <th>282</th>\n",
       "      <td>1.427622</td>\n",
       "      <td>-1.782858</td>\n",
       "      <td>recurrence-events</td>\n",
       "    </tr>\n",
       "    <tr>\n",
       "      <th>283</th>\n",
       "      <td>-0.395346</td>\n",
       "      <td>1.054628</td>\n",
       "      <td>recurrence-events</td>\n",
       "    </tr>\n",
       "    <tr>\n",
       "      <th>284</th>\n",
       "      <td>2.109970</td>\n",
       "      <td>-0.491670</td>\n",
       "      <td>recurrence-events</td>\n",
       "    </tr>\n",
       "    <tr>\n",
       "      <th>285</th>\n",
       "      <td>1.975960</td>\n",
       "      <td>0.454093</td>\n",
       "      <td>recurrence-events</td>\n",
       "    </tr>\n",
       "  </tbody>\n",
       "</table>\n",
       "<p>286 rows × 3 columns</p>\n",
       "</div>"
      ],
      "text/plain": [
       "     Principal Component #1  Principal Component #2                 Class\n",
       "0                 -0.082116               -1.418963  no-recurrence-events\n",
       "1                 -1.269219               -0.737748  no-recurrence-events\n",
       "2                 -1.262627               -0.738101  no-recurrence-events\n",
       "3                 -1.711847                1.021631  no-recurrence-events\n",
       "4                 -1.947876               -1.267394  no-recurrence-events\n",
       "..                      ...                     ...                   ...\n",
       "281                1.066369               -1.518465     recurrence-events\n",
       "282                1.427622               -1.782858     recurrence-events\n",
       "283               -0.395346                1.054628     recurrence-events\n",
       "284                2.109970               -0.491670     recurrence-events\n",
       "285                1.975960                0.454093     recurrence-events\n",
       "\n",
       "[286 rows x 3 columns]"
      ]
     },
     "execution_count": 8,
     "metadata": {},
     "output_type": "execute_result"
    }
   ],
   "source": [
    "final_df"
   ]
  },
  {
   "cell_type": "code",
   "execution_count": 14,
   "metadata": {},
   "outputs": [
    {
     "data": {
      "image/png": "[encoded data removed]",
      "text/plain": [
       "<Figure size 576x576 with 1 Axes>"
      ]
     },
     "metadata": {
      "needs_background": "light"
     },
     "output_type": "display_data"
    }
   ],
   "source": [
    "import matplotlib.pyplot as plt \n",
    "\n",
    "figure = plt.figure(figsize = (8, 8))\n",
    "fig = figure.add_subplot(1, 1, 1)\n",
    "fig.set_xlabel('Principal Component #1', fontsize = 15)\n",
    "fig.set_ylabel('Principal Component #2', fontsize = 15)\n",
    "fig.set_title('2-Component PCA - Breast Cancer Dataset', fontsize = 20)\n",
    "\n",
    "targets = ['no-recurrence-events', 'recurrence-events']\n",
    "colors = ['r', 'b']\n",
    "for target, color in zip(targets, colors):\n",
    "    indices_to_keep = final_df['Class'] == target\n",
    "    fig.scatter(final_df.loc[indices_to_keep, 'Principal Component #1'],\n",
    "                    final_df.loc[indices_to_keep, 'Principal Component #2'],\n",
    "                       c = color)\n",
    "fig.legend(targets)\n",
    "fig.grid()"
   ]
  },
  {
   "cell_type": "code",
   "execution_count": null,
   "metadata": {},
   "outputs": [],
   "source": []
  }
 ],
 "metadata": {
  "kernelspec": {
   "display_name": "Python 3",
   "language": "python",
   "name": "python3"
  },
  "language_info": {
   "codemirror_mode": {
    "name": "ipython",
    "version": 3
   },
   "file_extension": ".py",
   "mimetype": "text/x-python",
   "name": "python",
   "nbconvert_exporter": "python",
   "pygments_lexer": "ipython3",
   "version": "3.7.7"
  }
 },
 "nbformat": 4,
 "nbformat_minor": 4
}
